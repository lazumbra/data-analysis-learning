{
 "cells": [
  {
   "cell_type": "markdown",
   "metadata": {},
   "source": [
    "# Comandos importantes"
   ]
  },
  {
   "cell_type": "markdown",
   "metadata": {},
   "source": [
    "## Deletar uma linha\n",
    "\n",
    "Apertar o [D] duas vezes rapido."
   ]
  },
  {
   "cell_type": "markdown",
   "metadata": {},
   "source": [
    "## Deixar de selecionar uma linha\n",
    "\n",
    "Clicar em [escape] - Esc\n",
    "\n",
    "## Selecionar uma linha\n",
    "\n",
    "Clicar em [return] - Enter"
   ]
  },
  {
   "cell_type": "markdown",
   "metadata": {},
   "source": [
    "## Adicionar uma linha acima\n",
    "\n",
    "Cliclar [A]bove \n",
    "\n",
    "## Adicionar uma linha abaixo\n",
    "\n",
    "Clicar [B]elow"
   ]
  },
  {
   "cell_type": "markdown",
   "metadata": {},
   "source": [
    "## Trocar a célula de Code para Markdown\n",
    "\n",
    "Clicar [M]\n",
    "\n",
    "## Trocar a célula de Markdown para Code\n",
    "\n",
    "Clicar [Y]"
   ]
  },
  {
   "cell_type": "markdown",
   "metadata": {},
   "source": [
    "## Executar o códgo e continuar na mesma celula\n",
    "\n",
    "Comando -> [ctrl + Return]\n",
    "\n",
    "## Executar o código e mudar para a próxima linha\n",
    "\n",
    "Comando -> [shift + Reurn]\n",
    "\n",
    "OBS: Caso não tenha nenhuma célula abaixo, o código vai imediatamente criar uma nova célular"
   ]
  },
  {
   "cell_type": "markdown",
   "metadata": {},
   "source": [
    "## Refazer o último comando\n",
    "\n",
    "Clicar: [Z]\n",
    "\n",
    "No geral é importante clicar [ctrl + Z], porém aqui é mais simples apenas clicar [Z]"
   ]
  },
  {
   "cell_type": "markdown",
   "metadata": {},
   "source": [
    "## Cortar uma célula e colar a mesma em outro local\n",
    "\n",
    "Cortar [X]\n",
    "\n",
    "Colar [V]"
   ]
  },
  {
   "cell_type": "markdown",
   "metadata": {},
   "source": [
    "## Copiar uma celula e colar a mesma em outro lugar\n",
    "\n",
    "Copiar [C]\n",
    "\n",
    "Colar [V]"
   ]
  }
 ],
 "metadata": {
  "kernelspec": {
   "display_name": "Python 3",
   "language": "python",
   "name": "python3"
  },
  "language_info": {
   "codemirror_mode": {
    "name": "ipython",
    "version": 3
   },
   "file_extension": ".py",
   "mimetype": "text/x-python",
   "name": "python",
   "nbconvert_exporter": "python",
   "pygments_lexer": "ipython3",
   "version": "3.8.1"
  }
 },
 "nbformat": 4,
 "nbformat_minor": 4
}
